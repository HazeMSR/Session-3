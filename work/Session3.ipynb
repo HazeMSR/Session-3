{
 "cells": [
  {
   "cell_type": "code",
   "execution_count": 4,
   "id": "bc2926c2-bfd3-4334-bafe-13abe5aea02a",
   "metadata": {},
   "outputs": [],
   "source": [
    "import pyspark"
   ]
  },
  {
   "cell_type": "code",
   "execution_count": 5,
   "id": "dc9f74d4-cda7-45c1-98a0-9ba37f364a9e",
   "metadata": {},
   "outputs": [],
   "source": [
    "from pyspark import SparkContext"
   ]
  },
  {
   "cell_type": "code",
   "execution_count": 6,
   "id": "e7cdb5c6-e13f-4500-a6b8-7bed3a4338dc",
   "metadata": {},
   "outputs": [],
   "source": [
    "sc = SparkContext()"
   ]
  },
  {
   "cell_type": "code",
   "execution_count": 7,
   "id": "64aae4ba-21ba-46b4-81cb-6575785b89db",
   "metadata": {},
   "outputs": [
    {
     "data": {
      "text/html": [
       "\n",
       "        <div>\n",
       "            <p><b>SparkContext</b></p>\n",
       "\n",
       "            <p><a href=\"http://748f5bb9a19f:4041\">Spark UI</a></p>\n",
       "\n",
       "            <dl>\n",
       "              <dt>Version</dt>\n",
       "                <dd><code>v3.2.1</code></dd>\n",
       "              <dt>Master</dt>\n",
       "                <dd><code>local[*]</code></dd>\n",
       "              <dt>AppName</dt>\n",
       "                <dd><code>pyspark-shell</code></dd>\n",
       "            </dl>\n",
       "        </div>\n",
       "        "
      ],
      "text/plain": [
       "<SparkContext master=local[*] appName=pyspark-shell>"
      ]
     },
     "execution_count": 7,
     "metadata": {},
     "output_type": "execute_result"
    }
   ],
   "source": [
    "sc"
   ]
  },
  {
   "cell_type": "code",
   "execution_count": 8,
   "id": "35ce3811-1198-4197-9103-a05b319e9e9f",
   "metadata": {},
   "outputs": [],
   "source": [
    "# Resilient Distributed Dataset. \n",
    "nums = sc.parallelize([1,2,3,4])"
   ]
  },
  {
   "cell_type": "code",
   "execution_count": 9,
   "id": "6d3d451a-3c64-478e-80f1-0aaa7adfd2f7",
   "metadata": {},
   "outputs": [
    {
     "data": {
      "text/plain": [
       "[1, 2]"
      ]
     },
     "execution_count": 9,
     "metadata": {},
     "output_type": "execute_result"
    }
   ],
   "source": [
    "nums.take(2)"
   ]
  },
  {
   "cell_type": "code",
   "execution_count": 10,
   "id": "aae51fd3-2ca8-416f-ac1e-bf48a01bde9a",
   "metadata": {},
   "outputs": [],
   "source": [
    "# Applying some transformation with a lambda function to our set\n",
    "squared = nums.map(lambda x: x*x).collect()"
   ]
  },
  {
   "cell_type": "code",
   "execution_count": 11,
   "id": "d220fbf3-48bf-40c9-8fb7-4e02469da564",
   "metadata": {},
   "outputs": [
    {
     "data": {
      "text/plain": [
       "[1, 4, 9, 16]"
      ]
     },
     "execution_count": 11,
     "metadata": {},
     "output_type": "execute_result"
    }
   ],
   "source": [
    "squared"
   ]
  },
  {
   "cell_type": "code",
   "execution_count": 12,
   "id": "aba53415-aa34-4a92-869a-4546330005b4",
   "metadata": {},
   "outputs": [
    {
     "name": "stderr",
     "output_type": "stream",
     "text": [
      "/usr/local/spark/python/pyspark/sql/context.py:77: FutureWarning: Deprecated in 3.0.0. Use SparkSession.builder.getOrCreate() instead.\n",
      "  warnings.warn(\n"
     ]
    }
   ],
   "source": [
    "# Using SQLContext\n",
    "from pyspark.sql import SQLContext\n",
    "from pyspark.sql import Row\n",
    "sqlContext = SQLContext(sc)"
   ]
  },
  {
   "cell_type": "code",
   "execution_count": 13,
   "id": "76d76e8d-8c3d-497f-b609-835d8fa47b3d",
   "metadata": {},
   "outputs": [],
   "source": [
    "# But SQLContext it's already deprecated use SparkSession instead\n",
    "from pyspark.sql import SparkSession\n",
    "\n",
    "spark = SparkSession.builder.appName('Session3').getOrCreate()"
   ]
  },
  {
   "cell_type": "code",
   "execution_count": 14,
   "id": "9894c86f-d3a8-4aa5-a44c-0b2d9b1af1fd",
   "metadata": {},
   "outputs": [
    {
     "data": {
      "text/html": [
       "\n",
       "            <div>\n",
       "                <p><b>SparkSession - in-memory</b></p>\n",
       "                \n",
       "        <div>\n",
       "            <p><b>SparkContext</b></p>\n",
       "\n",
       "            <p><a href=\"http://748f5bb9a19f:4041\">Spark UI</a></p>\n",
       "\n",
       "            <dl>\n",
       "              <dt>Version</dt>\n",
       "                <dd><code>v3.2.1</code></dd>\n",
       "              <dt>Master</dt>\n",
       "                <dd><code>local[*]</code></dd>\n",
       "              <dt>AppName</dt>\n",
       "                <dd><code>pyspark-shell</code></dd>\n",
       "            </dl>\n",
       "        </div>\n",
       "        \n",
       "            </div>\n",
       "        "
      ],
      "text/plain": [
       "<pyspark.sql.session.SparkSession at 0x7f6bcb105580>"
      ]
     },
     "execution_count": 14,
     "metadata": {},
     "output_type": "execute_result"
    }
   ],
   "source": [
    "spark"
   ]
  },
  {
   "cell_type": "code",
   "execution_count": 15,
   "id": "ba1b4416-aaff-437e-b4a7-954dd12738c0",
   "metadata": {},
   "outputs": [],
   "source": [
    "list_p = [('John',19),('Smith',29),('Adam',35),('Henry',50)]"
   ]
  },
  {
   "cell_type": "code",
   "execution_count": 61,
   "id": "c1356b52-6b17-4f14-9c6b-9de5467bbb35",
   "metadata": {},
   "outputs": [],
   "source": [
    "# Make a parallel RDD collection\n",
    "rdd = sc.parallelize(list_p)"
   ]
  },
  {
   "cell_type": "code",
   "execution_count": 17,
   "id": "d55c70e4-5f2a-44d4-a3f2-d3f0be688c27",
   "metadata": {},
   "outputs": [
    {
     "data": {
      "text/plain": [
       "ParallelCollectionRDD[3] at readRDDFromFile at PythonRDD.scala:274"
      ]
     },
     "execution_count": 17,
     "metadata": {},
     "output_type": "execute_result"
    }
   ],
   "source": [
    "rdd"
   ]
  },
  {
   "cell_type": "code",
   "execution_count": 18,
   "id": "b0ca6fcf-6569-4393-841a-83b0299fa322",
   "metadata": {},
   "outputs": [],
   "source": [
    "# Convert the RDD to tuples\n",
    "ppl = rdd.map(lambda x: Row(name=x[0], age=int(x[1])))"
   ]
  },
  {
   "cell_type": "code",
   "execution_count": 63,
   "id": "f65c66eb-6165-4bb6-b1f0-72be87141f8e",
   "metadata": {},
   "outputs": [
    {
     "data": {
      "text/plain": [
       "PythonRDD[4] at RDD at PythonRDD.scala:53"
      ]
     },
     "execution_count": 63,
     "metadata": {},
     "output_type": "execute_result"
    }
   ],
   "source": [
    "ppl"
   ]
  },
  {
   "cell_type": "code",
   "execution_count": 20,
   "id": "536059ef-e016-40fd-b52a-75ab9976cab7",
   "metadata": {},
   "outputs": [],
   "source": [
    "df_ppl = spark.createDataFrame(ppl)"
   ]
  },
  {
   "cell_type": "code",
   "execution_count": 21,
   "id": "381ef76f-c380-4bba-a9ee-11885c6d6e15",
   "metadata": {},
   "outputs": [
    {
     "data": {
      "text/plain": [
       "DataFrame[name: string, age: bigint]"
      ]
     },
     "execution_count": 21,
     "metadata": {},
     "output_type": "execute_result"
    }
   ],
   "source": [
    "df_ppl"
   ]
  },
  {
   "cell_type": "code",
   "execution_count": 22,
   "id": "83f3bb16-4c6e-48c4-8744-c54d0e809011",
   "metadata": {},
   "outputs": [
    {
     "name": "stdout",
     "output_type": "stream",
     "text": [
      "root\n",
      " |-- name: string (nullable = true)\n",
      " |-- age: long (nullable = true)\n",
      "\n"
     ]
    }
   ],
   "source": [
    "df_ppl.printSchema()"
   ]
  },
  {
   "cell_type": "code",
   "execution_count": 24,
   "id": "e53cc9ac-7d8e-4f7f-b224-80302fb35df4",
   "metadata": {},
   "outputs": [],
   "source": [
    "file = \"adult_data.csv\"\n",
    "from pyspark import SparkFiles\n",
    "#sc.addFile(file)\n",
    "\n",
    "# Add a file to be downloaded with this Spark job on every node\n",
    "spark.sparkContext.addFile(file)\n",
    "\n",
    "# sqlContext = SQLContext(sc)"
   ]
  },
  {
   "cell_type": "code",
   "execution_count": 25,
   "id": "84ba3249-2f9b-42b0-a92b-41a084c8ec64",
   "metadata": {},
   "outputs": [],
   "source": [
    "# sqlContext.read.csv\n",
    "\n",
    "# Load your file to your sql context inside spark session\n",
    "df = spark.read.csv(SparkFiles.get(\"adult_data.csv\"), header=True, inferSchema= True)"
   ]
  },
  {
   "cell_type": "code",
   "execution_count": 26,
   "id": "f55d0ac7-c5d7-4d7c-88e0-2281b96a9a09",
   "metadata": {},
   "outputs": [
    {
     "name": "stdout",
     "output_type": "stream",
     "text": [
      "root\n",
      " |-- x: integer (nullable = true)\n",
      " |-- age: integer (nullable = true)\n",
      " |-- workclass: string (nullable = true)\n",
      " |-- fnlwgt: integer (nullable = true)\n",
      " |-- education: string (nullable = true)\n",
      " |-- educational-num: integer (nullable = true)\n",
      " |-- marital-status: string (nullable = true)\n",
      " |-- occupation: string (nullable = true)\n",
      " |-- relationship: string (nullable = true)\n",
      " |-- race: string (nullable = true)\n",
      " |-- gender: string (nullable = true)\n",
      " |-- capital-gain: integer (nullable = true)\n",
      " |-- capital-loss: integer (nullable = true)\n",
      " |-- hours-per-week: integer (nullable = true)\n",
      " |-- native-country: string (nullable = true)\n",
      " |-- income: string (nullable = true)\n",
      "\n"
     ]
    }
   ],
   "source": [
    "df.printSchema()"
   ]
  },
  {
   "cell_type": "code",
   "execution_count": 27,
   "id": "183ea5ed-fe50-4496-9dfb-db643620abd9",
   "metadata": {},
   "outputs": [
    {
     "name": "stdout",
     "output_type": "stream",
     "text": [
      "+---+---+---------+------+------------+---------------+------------------+-----------------+------------+-----+------+------------+------------+--------------+--------------+------+\n",
      "|x  |age|workclass|fnlwgt|education   |educational-num|marital-status    |occupation       |relationship|race |gender|capital-gain|capital-loss|hours-per-week|native-country|income|\n",
      "+---+---+---------+------+------------+---------------+------------------+-----------------+------------+-----+------+------------+------------+--------------+--------------+------+\n",
      "|1  |25 |Private  |226802|11th        |7              |Never-married     |Machine-op-inspct|Own-child   |Black|Male  |0           |0           |40            |United-States |<=50K |\n",
      "|2  |38 |Private  |89814 |HS-grad     |9              |Married-civ-spouse|Farming-fishing  |Husband     |White|Male  |0           |0           |50            |United-States |<=50K |\n",
      "|3  |28 |Local-gov|336951|Assoc-acdm  |12             |Married-civ-spouse|Protective-serv  |Husband     |White|Male  |0           |0           |40            |United-States |>50K  |\n",
      "|4  |44 |Private  |160323|Some-college|10             |Married-civ-spouse|Machine-op-inspct|Husband     |Black|Male  |7688        |0           |40            |United-States |>50K  |\n",
      "|5  |18 |?        |103497|Some-college|10             |Never-married     |?                |Own-child   |White|Female|0           |0           |30            |United-States |<=50K |\n",
      "+---+---+---------+------+------------+---------------+------------------+-----------------+------------+-----+------+------------+------------+--------------+--------------+------+\n",
      "only showing top 5 rows\n",
      "\n"
     ]
    }
   ],
   "source": [
    "df.show(5, truncate = False)"
   ]
  },
  {
   "cell_type": "code",
   "execution_count": 28,
   "id": "fdb232dc-7d83-4556-839f-dbd4d69dccac",
   "metadata": {},
   "outputs": [],
   "source": [
    "# Import all from `sql.types`\n",
    "from pyspark.sql.types import *"
   ]
  },
  {
   "cell_type": "code",
   "execution_count": 29,
   "id": "801bf609-f684-4357-8a60-1e7aad91617d",
   "metadata": {},
   "outputs": [],
   "source": [
    "# Write a custom function to convert the data type of DataFrame columns\n",
    "def convertColumn(df, names, newType):\n",
    "    for name in names: \n",
    "        df = df.withColumn(name, df[name].cast(newType))\n",
    "    return df "
   ]
  },
  {
   "cell_type": "code",
   "execution_count": 38,
   "id": "dbf8eec5-7d98-43af-b076-7d73bcb06dd8",
   "metadata": {},
   "outputs": [],
   "source": [
    "# List of continuous features\n",
    "CONTI_FEATURES  = ['age', 'fnlwgt','capital-gain', 'educational-num', 'capital-loss', 'hours-per-week']"
   ]
  },
  {
   "cell_type": "code",
   "execution_count": 39,
   "id": "70039206-e961-4c4e-8d46-aec235507898",
   "metadata": {},
   "outputs": [],
   "source": [
    "# Convert the type\n",
    "df_string = convertColumn(df, CONTI_FEATURES, FloatType())"
   ]
  },
  {
   "cell_type": "code",
   "execution_count": 40,
   "id": "917e82f0-f618-476b-aa8b-b94e2f5b1afc",
   "metadata": {},
   "outputs": [
    {
     "name": "stdout",
     "output_type": "stream",
     "text": [
      "root\n",
      " |-- x: integer (nullable = true)\n",
      " |-- age: float (nullable = true)\n",
      " |-- workclass: string (nullable = true)\n",
      " |-- fnlwgt: float (nullable = true)\n",
      " |-- education: string (nullable = true)\n",
      " |-- educational-num: float (nullable = true)\n",
      " |-- marital-status: string (nullable = true)\n",
      " |-- occupation: string (nullable = true)\n",
      " |-- relationship: string (nullable = true)\n",
      " |-- race: string (nullable = true)\n",
      " |-- gender: string (nullable = true)\n",
      " |-- capital-gain: float (nullable = true)\n",
      " |-- capital-loss: float (nullable = true)\n",
      " |-- hours-per-week: float (nullable = true)\n",
      " |-- native-country: string (nullable = true)\n",
      " |-- income: string (nullable = true)\n",
      "\n"
     ]
    }
   ],
   "source": [
    "df_string.printSchema()"
   ]
  },
  {
   "cell_type": "code",
   "execution_count": 42,
   "id": "3e20c9ab-394a-4bd6-9bf8-6600fe8b9997",
   "metadata": {},
   "outputs": [
    {
     "name": "stdout",
     "output_type": "stream",
     "text": [
      "root\n",
      " |-- x: integer (nullable = true)\n",
      " |-- age: integer (nullable = true)\n",
      " |-- workclass: string (nullable = true)\n",
      " |-- fnlwgt: integer (nullable = true)\n",
      " |-- education: string (nullable = true)\n",
      " |-- educational-num: integer (nullable = true)\n",
      " |-- marital-status: string (nullable = true)\n",
      " |-- occupation: string (nullable = true)\n",
      " |-- relationship: string (nullable = true)\n",
      " |-- race: string (nullable = true)\n",
      " |-- gender: string (nullable = true)\n",
      " |-- capital-gain: integer (nullable = true)\n",
      " |-- capital-loss: integer (nullable = true)\n",
      " |-- hours-per-week: integer (nullable = true)\n",
      " |-- native-country: string (nullable = true)\n",
      " |-- income: string (nullable = true)\n",
      " |-- educational-num-index: double (nullable = false)\n",
      "\n"
     ]
    }
   ],
   "source": [
    "from pyspark.ml.feature import StringIndexer\n",
    "stringIndexer = StringIndexer(inputCol=\"educational-num\", outputCol=\"educational-num-index\")\n",
    "model = stringIndexer.fit(df)\n",
    "df = model.transform(df)\n",
    "df.printSchema()"
   ]
  },
  {
   "cell_type": "code",
   "execution_count": 47,
   "id": "5d5b6fbf-8982-4b67-83cb-b6fac617f0eb",
   "metadata": {},
   "outputs": [
    {
     "name": "stdout",
     "output_type": "stream",
     "text": [
      "+---------------+---------------------+\n",
      "|educational-num|educational-num-index|\n",
      "+---------------+---------------------+\n",
      "|7              |5.0                  |\n",
      "|9              |0.0                  |\n",
      "|12             |6.0                  |\n",
      "|10             |1.0                  |\n",
      "|10             |1.0                  |\n",
      "|6              |7.0                  |\n",
      "|9              |0.0                  |\n",
      "|15             |9.0                  |\n",
      "|10             |1.0                  |\n",
      "|4              |8.0                  |\n",
      "|9              |0.0                  |\n",
      "|13             |2.0                  |\n",
      "|9              |0.0                  |\n",
      "|9              |0.0                  |\n",
      "|9              |0.0                  |\n",
      "|14             |3.0                  |\n",
      "|10             |1.0                  |\n",
      "|9              |0.0                  |\n",
      "|9              |0.0                  |\n",
      "|16             |12.0                 |\n",
      "+---------------+---------------------+\n",
      "only showing top 20 rows\n",
      "\n"
     ]
    }
   ],
   "source": [
    "df.select(['educational-num','educational-num-index']).show(truncate=False)"
   ]
  },
  {
   "cell_type": "code",
   "execution_count": 48,
   "id": "e2c4bd1b-a594-4bac-9cc8-75ed6a04b829",
   "metadata": {},
   "outputs": [
    {
     "name": "stdout",
     "output_type": "stream",
     "text": [
      "+------------+-----+\n",
      "|   education|count|\n",
      "+------------+-----+\n",
      "|   Preschool|   83|\n",
      "|     1st-4th|  247|\n",
      "|     5th-6th|  509|\n",
      "|   Doctorate|  594|\n",
      "|        12th|  657|\n",
      "|         9th|  756|\n",
      "| Prof-school|  834|\n",
      "|     7th-8th|  955|\n",
      "|        10th| 1389|\n",
      "|  Assoc-acdm| 1601|\n",
      "|        11th| 1812|\n",
      "|   Assoc-voc| 2061|\n",
      "|     Masters| 2657|\n",
      "|   Bachelors| 8025|\n",
      "|Some-college|10878|\n",
      "|     HS-grad|15784|\n",
      "+------------+-----+\n",
      "\n"
     ]
    }
   ],
   "source": [
    "\n",
    "df.groupBy(\"education\").count().sort(\"count\",ascending=True).show()"
   ]
  },
  {
   "cell_type": "code",
   "execution_count": 49,
   "id": "8f384ff6-d7bf-49f1-a4a3-edf99cedd0f7",
   "metadata": {},
   "outputs": [
    {
     "name": "stdout",
     "output_type": "stream",
     "text": [
      "+-------+------------------+------------------+-----------+------------------+------------+------------------+--------------+----------------+------------+------------------+------+------------------+-----------------+------------------+--------------+------+---------------------+\n",
      "|summary|                 x|               age|  workclass|            fnlwgt|   education|   educational-num|marital-status|      occupation|relationship|              race|gender|      capital-gain|     capital-loss|    hours-per-week|native-country|income|educational-num-index|\n",
      "+-------+------------------+------------------+-----------+------------------+------------+------------------+--------------+----------------+------------+------------------+------+------------------+-----------------+------------------+--------------+------+---------------------+\n",
      "|  count|             48842|             48842|      48842|             48842|       48842|             48842|         48842|           48842|       48842|             48842| 48842|             48842|            48842|             48842|         48842| 48842|                48842|\n",
      "|   mean|           24421.5| 38.64358543876172|       null|189664.13459727284|        null|10.078088530363212|          null|            null|        null|              null|  null|1079.0676262233324|87.50231358257237|40.422382375824085|          null|  null|   2.4551205929323126|\n",
      "| stddev|14099.615260708357|13.710509934443502|       null|105604.02542315757|        null| 2.570972755592252|          null|            null|        null|              null|  null| 7452.019057655413|403.0045521243591|12.391444024252289|          null|  null|   3.1959866507489902|\n",
      "|    min|                 1|                17|          ?|             12285|        10th|                 1|      Divorced|               ?|     Husband|Amer-Indian-Eskimo|Female|                 0|                0|                 1|             ?| <=50K|                  0.0|\n",
      "|    max|             48842|                90|Without-pay|           1490400|Some-college|                16|       Widowed|Transport-moving|        Wife|             White|  Male|             99999|             4356|                99|    Yugoslavia|  >50K|                 15.0|\n",
      "+-------+------------------+------------------+-----------+------------------+------------+------------------+--------------+----------------+------------+------------------+------+------------------+-----------------+------------------+--------------+------+---------------------+\n",
      "\n"
     ]
    }
   ],
   "source": [
    "\n",
    "df.describe().show()"
   ]
  },
  {
   "cell_type": "code",
   "execution_count": 51,
   "id": "33dd9f7e-7929-4576-987d-fecd7c32681d",
   "metadata": {},
   "outputs": [
    {
     "name": "stdout",
     "output_type": "stream",
     "text": [
      "+-------+------------------+\n",
      "|summary|      capital-gain|\n",
      "+-------+------------------+\n",
      "|  count|             48842|\n",
      "|   mean|1079.0676262233324|\n",
      "| stddev| 7452.019057655413|\n",
      "|    min|                 0|\n",
      "|    max|             99999|\n",
      "+-------+------------------+\n",
      "\n"
     ]
    }
   ],
   "source": [
    "\n",
    "df.describe('capital-gain').show()"
   ]
  },
  {
   "cell_type": "code",
   "execution_count": 53,
   "id": "429cb4db-950b-4cb4-9c57-68a31d9716f7",
   "metadata": {},
   "outputs": [
    {
     "name": "stdout",
     "output_type": "stream",
     "text": [
      "+------+\n",
      "|income|\n",
      "+------+\n",
      "| <=50K|\n",
      "| <=50K|\n",
      "|  >50K|\n",
      "|  >50K|\n",
      "| <=50K|\n",
      "| <=50K|\n",
      "| <=50K|\n",
      "|  >50K|\n",
      "| <=50K|\n",
      "| <=50K|\n",
      "|  >50K|\n",
      "| <=50K|\n",
      "| <=50K|\n",
      "| <=50K|\n",
      "|  >50K|\n",
      "|  >50K|\n",
      "| <=50K|\n",
      "| <=50K|\n",
      "| <=50K|\n",
      "|  >50K|\n",
      "+------+\n",
      "only showing top 20 rows\n",
      "\n"
     ]
    }
   ],
   "source": [
    "df.select('income').show()"
   ]
  },
  {
   "cell_type": "code",
   "execution_count": 55,
   "id": "d2cdbb2d-0903-4d48-9fc4-184aed14f187",
   "metadata": {},
   "outputs": [
    {
     "name": "stdout",
     "output_type": "stream",
     "text": [
      "+----------+-----+----+\n",
      "|age_income|<=50K|>50K|\n",
      "+----------+-----+----+\n",
      "|        17|  595|   0|\n",
      "|        18|  862|   0|\n",
      "|        19| 1050|   3|\n",
      "|        20| 1112|   1|\n",
      "|        21| 1090|   6|\n",
      "|        22| 1161|  17|\n",
      "|        23| 1307|  22|\n",
      "|        24| 1162|  44|\n",
      "|        25| 1119|  76|\n",
      "|        26| 1068|  85|\n",
      "|        27| 1117| 115|\n",
      "|        28| 1101| 179|\n",
      "|        29| 1025| 198|\n",
      "|        30| 1031| 247|\n",
      "|        31| 1050| 275|\n",
      "|        32|  957| 296|\n",
      "|        33| 1045| 290|\n",
      "|        34|  949| 354|\n",
      "|        35|  997| 340|\n",
      "|        36|  948| 400|\n",
      "+----------+-----+----+\n",
      "only showing top 20 rows\n",
      "\n"
     ]
    }
   ],
   "source": [
    "# If we want to know how the age get related to the income\n",
    "df.crosstab('age','income').sort('age_income').show()"
   ]
  },
  {
   "cell_type": "code",
   "execution_count": 60,
   "id": "45b2d0ae-c459-48cb-9c87-8cf878a1fe10",
   "metadata": {},
   "outputs": [
    {
     "data": {
      "text/plain": [
       "['x',\n",
       " 'age',\n",
       " 'workclass',\n",
       " 'fnlwgt',\n",
       " 'education',\n",
       " 'marital-status',\n",
       " 'occupation',\n",
       " 'relationship',\n",
       " 'race',\n",
       " 'gender',\n",
       " 'capital-gain',\n",
       " 'capital-loss',\n",
       " 'hours-per-week',\n",
       " 'native-country',\n",
       " 'income',\n",
       " 'educational-num-index']"
      ]
     },
     "execution_count": 60,
     "metadata": {},
     "output_type": "execute_result"
    }
   ],
   "source": [
    "# Drop a column\n",
    "df.drop('educational-num').columns"
   ]
  },
  {
   "cell_type": "code",
   "execution_count": 71,
   "id": "6aa13cbe-f1e3-4896-8079-d2ac6c934a7e",
   "metadata": {},
   "outputs": [
    {
     "data": {
      "text/plain": [
       "20211"
      ]
     },
     "execution_count": 71,
     "metadata": {},
     "output_type": "execute_result"
    }
   ],
   "source": [
    "# Filter by one column as a paremeter\n",
    "df.filter(df.age > 40).count()"
   ]
  },
  {
   "cell_type": "code",
   "execution_count": 73,
   "id": "0ceba458-2b72-45ed-871d-fbaa2a49199d",
   "metadata": {},
   "outputs": [
    {
     "data": {
      "text/plain": [
       "7086"
      ]
     },
     "execution_count": 73,
     "metadata": {},
     "output_type": "execute_result"
    }
   ],
   "source": [
    "# Filter by TWO columns as a paremeter\n",
    "df.filter((df.age > 40) & (df.income == '>50K')).count()"
   ]
  },
  {
   "cell_type": "code",
   "execution_count": 76,
   "id": "a75af7a4-2ae0-49e1-83e6-f76ffbaf5777",
   "metadata": {},
   "outputs": [
    {
     "name": "stdout",
     "output_type": "stream",
     "text": [
      "+--------------------+------------------+\n",
      "|      marital-status| avg(capital-gain)|\n",
      "+--------------------+------------------+\n",
      "|           Separated| 581.8424836601307|\n",
      "|       Never-married|  384.382639449029|\n",
      "|Married-spouse-ab...| 629.0047770700637|\n",
      "|            Divorced| 793.6755615860094|\n",
      "|             Widowed| 603.6442687747035|\n",
      "|   Married-AF-spouse|2971.6216216216217|\n",
      "|  Married-civ-spouse|1739.7006121810625|\n",
      "+--------------------+------------------+\n",
      "\n"
     ]
    }
   ],
   "source": [
    "# Aggregate data by group\n",
    "df.groupby('marital-status').agg({'capital-gain': 'mean'}).show()"
   ]
  },
  {
   "cell_type": "code",
   "execution_count": 77,
   "id": "1de31b93-f3ab-48b7-b5f0-167bfadbeb9d",
   "metadata": {},
   "outputs": [
    {
     "name": "stdout",
     "output_type": "stream",
     "text": [
      "+--------------------+--------+\n",
      "|      marital-status|count(1)|\n",
      "+--------------------+--------+\n",
      "|           Separated|    1530|\n",
      "|       Never-married|   16117|\n",
      "|Married-spouse-ab...|     628|\n",
      "|            Divorced|    6633|\n",
      "|             Widowed|    1518|\n",
      "|   Married-AF-spouse|      37|\n",
      "|  Married-civ-spouse|   22379|\n",
      "+--------------------+--------+\n",
      "\n"
     ]
    }
   ],
   "source": [
    "df.groupby('marital-status').agg({'*': 'count'}).show()"
   ]
  },
  {
   "cell_type": "code",
   "execution_count": 78,
   "id": "8ceb2c86-b9a2-4728-b494-9a15c6f87e28",
   "metadata": {},
   "outputs": [
    {
     "name": "stdout",
     "output_type": "stream",
     "text": [
      "+--------------------+--------+\n",
      "|      marital-status|min(age)|\n",
      "+--------------------+--------+\n",
      "|           Separated|      18|\n",
      "|       Never-married|      17|\n",
      "|Married-spouse-ab...|      17|\n",
      "|            Divorced|      18|\n",
      "|             Widowed|      17|\n",
      "|   Married-AF-spouse|      19|\n",
      "|  Married-civ-spouse|      17|\n",
      "+--------------------+--------+\n",
      "\n"
     ]
    }
   ],
   "source": [
    "from pyspark.sql import functions as F\n",
    "df.groupby('marital-status').agg(F.min(df.age)).show()"
   ]
  },
  {
   "cell_type": "code",
   "execution_count": 89,
   "id": "c62ce79e-cf5d-4577-b622-e8a3e1a707da",
   "metadata": {},
   "outputs": [
    {
     "name": "stdout",
     "output_type": "stream",
     "text": [
      "+--------------+---+\n",
      "|marital-status|age|\n",
      "+--------------+---+\n",
      "| Never-married| 17|\n",
      "| Never-married| 17|\n",
      "| Never-married| 17|\n",
      "| Never-married| 17|\n",
      "| Never-married| 17|\n",
      "| Never-married| 17|\n",
      "| Never-married| 17|\n",
      "| Never-married| 17|\n",
      "| Never-married| 17|\n",
      "| Never-married| 17|\n",
      "| Never-married| 17|\n",
      "| Never-married| 17|\n",
      "| Never-married| 17|\n",
      "| Never-married| 17|\n",
      "| Never-married| 17|\n",
      "| Never-married| 17|\n",
      "| Never-married| 17|\n",
      "| Never-married| 17|\n",
      "| Never-married| 17|\n",
      "| Never-married| 17|\n",
      "+--------------+---+\n",
      "only showing top 20 rows\n",
      "\n"
     ]
    }
   ],
   "source": [
    "df.select('marital-status','age').filter((df['marital-status'] == 'Never-married') & (df.age < 18) ).show()"
   ]
  },
  {
   "cell_type": "code",
   "execution_count": 99,
   "id": "35f90566-2548-4101-aec4-2f123a50aac0",
   "metadata": {},
   "outputs": [],
   "source": [
    "# Apply the transformation and add it to the DataFrame\n",
    "df = df.withColumn(\"age-square\", F.col(\"age\") ** 2)"
   ]
  },
  {
   "cell_type": "code",
   "execution_count": 100,
   "id": "cb12a17c-5fb7-4df7-a4f8-17cd39d3dd07",
   "metadata": {},
   "outputs": [
    {
     "name": "stdout",
     "output_type": "stream",
     "text": [
      "root\n",
      " |-- x: integer (nullable = true)\n",
      " |-- age: integer (nullable = true)\n",
      " |-- workclass: string (nullable = true)\n",
      " |-- fnlwgt: integer (nullable = true)\n",
      " |-- education: string (nullable = true)\n",
      " |-- educational-num: integer (nullable = true)\n",
      " |-- marital-status: string (nullable = true)\n",
      " |-- occupation: string (nullable = true)\n",
      " |-- relationship: string (nullable = true)\n",
      " |-- race: string (nullable = true)\n",
      " |-- gender: string (nullable = true)\n",
      " |-- capital-gain: integer (nullable = true)\n",
      " |-- capital-loss: integer (nullable = true)\n",
      " |-- hours-per-week: integer (nullable = true)\n",
      " |-- native-country: string (nullable = true)\n",
      " |-- income: string (nullable = true)\n",
      " |-- educational-num-index: double (nullable = false)\n",
      " |-- age_square: double (nullable = true)\n",
      " |-- age-square: double (nullable = true)\n",
      "\n"
     ]
    }
   ],
   "source": [
    "df.printSchema()"
   ]
  },
  {
   "cell_type": "code",
   "execution_count": 106,
   "id": "f9734c52-904e-4dbc-9db8-a200e715dd8a",
   "metadata": {},
   "outputs": [
    {
     "data": {
      "text/plain": [
       "Row(age=25, age-square=625.0, workclass='Private', fnlwgt=226802, education='11th', educational-num=7, marital-status='Never-married', occupation='Machine-op-inspct', relationship='Own-child', race='Black', x=1, capital-gain=0, capital-loss=0, hours-per-week=40, native-country='United-States', income='<=50K')"
      ]
     },
     "execution_count": 106,
     "metadata": {},
     "output_type": "execute_result"
    }
   ],
   "source": [
    "# Change the order of the displayed columns\n",
    "COLUMNS = ['age', 'age-square', 'workclass', 'fnlwgt', 'education', 'educational-num', 'marital-status',\n",
    "           'occupation', 'relationship', 'race', 'x', 'capital-gain', 'capital-loss',\n",
    "           'hours-per-week', 'native-country', 'income']\n",
    "df = df.select(COLUMNS)\n",
    "df.first()"
   ]
  },
  {
   "cell_type": "code",
   "execution_count": 114,
   "id": "42178e9d-19a4-417c-85b7-46da4955f795",
   "metadata": {},
   "outputs": [],
   "source": [
    "# Remove the netherlands \n",
    "df_remove = df.filter(df['native-country'] != 'Holand-Netherlands')"
   ]
  },
  {
   "cell_type": "code",
   "execution_count": 116,
   "id": "ea9274ca-77a6-4323-8b61-5b5557409d7c",
   "metadata": {},
   "outputs": [
    {
     "data": {
      "text/plain": [
       "[('age', 'int'),\n",
       " ('age-square', 'double'),\n",
       " ('workclass', 'string'),\n",
       " ('fnlwgt', 'int'),\n",
       " ('education', 'string'),\n",
       " ('educational-num', 'int'),\n",
       " ('marital-status', 'string'),\n",
       " ('occupation', 'string'),\n",
       " ('relationship', 'string'),\n",
       " ('race', 'string'),\n",
       " ('x', 'int'),\n",
       " ('capital-gain', 'int'),\n",
       " ('capital-loss', 'int'),\n",
       " ('hours-per-week', 'int'),\n",
       " ('native-country', 'string'),\n",
       " ('income', 'string')]"
      ]
     },
     "execution_count": 116,
     "metadata": {},
     "output_type": "execute_result"
    }
   ],
   "source": [
    "df.dtypes"
   ]
  },
  {
   "cell_type": "code",
   "execution_count": 118,
   "id": "4ca08324-960b-4670-999a-3f3239a5bfc6",
   "metadata": {},
   "outputs": [],
   "source": [
    "# Load the test2.csv\n",
    "df_pyspark=spark.read.csv('test2.csv',header=True,inferSchema=True)\n"
   ]
  },
  {
   "cell_type": "code",
   "execution_count": 119,
   "id": "c8701c08-fdbb-42c7-9412-1cdf19235358",
   "metadata": {},
   "outputs": [
    {
     "name": "stdout",
     "output_type": "stream",
     "text": [
      "+-------+----+----------+------+\n",
      "|   Name| age|Experience|Salary|\n",
      "+-------+----+----------+------+\n",
      "|   Karl|  31|        10| 30000|\n",
      "| Sussie|  30|         8| 25000|\n",
      "|  Sunny|  29|         4| 20000|\n",
      "|   Paul|  24|         3| 20000|\n",
      "|  Henry|  21|         1| 15000|\n",
      "|Shutter|  23|         2| 18000|\n",
      "|  Manny|null|      null| 40000|\n",
      "|   null|  34|        10| 38000|\n",
      "|   null|  36|      null|  null|\n",
      "+-------+----+----------+------+\n",
      "\n"
     ]
    }
   ],
   "source": [
    "df_pyspark.show()"
   ]
  },
  {
   "cell_type": "code",
   "execution_count": 120,
   "id": "ff117e79-6137-4b90-88ed-7f27404b6e24",
   "metadata": {},
   "outputs": [
    {
     "name": "stdout",
     "output_type": "stream",
     "text": [
      "+-------+---+----------+------+\n",
      "|   Name|age|Experience|Salary|\n",
      "+-------+---+----------+------+\n",
      "|   Karl| 31|        10| 30000|\n",
      "| Sussie| 30|         8| 25000|\n",
      "|  Sunny| 29|         4| 20000|\n",
      "|   Paul| 24|         3| 20000|\n",
      "|  Henry| 21|         1| 15000|\n",
      "|Shutter| 23|         2| 18000|\n",
      "+-------+---+----------+------+\n",
      "\n"
     ]
    }
   ],
   "source": [
    "# Drop all the rows that contains a null value\n",
    "df_pyspark.na.drop().show()"
   ]
  },
  {
   "cell_type": "code",
   "execution_count": 121,
   "id": "f7af46ee-603f-42f9-8f5b-9060ff47bab2",
   "metadata": {},
   "outputs": [
    {
     "name": "stdout",
     "output_type": "stream",
     "text": [
      "+-------+---+----------+------+\n",
      "|   Name|age|Experience|Salary|\n",
      "+-------+---+----------+------+\n",
      "|   Karl| 31|        10| 30000|\n",
      "| Sussie| 30|         8| 25000|\n",
      "|  Sunny| 29|         4| 20000|\n",
      "|   Paul| 24|         3| 20000|\n",
      "|  Henry| 21|         1| 15000|\n",
      "|Shutter| 23|         2| 18000|\n",
      "+-------+---+----------+------+\n",
      "\n"
     ]
    }
   ],
   "source": [
    "# The same but for ANY value\n",
    "df_pyspark.na.drop(how=\"any\").show()"
   ]
  },
  {
   "cell_type": "code",
   "execution_count": 122,
   "id": "62bca121-5316-4553-8359-bfa7bfcb93a6",
   "metadata": {},
   "outputs": [
    {
     "name": "stdout",
     "output_type": "stream",
     "text": [
      "+-------+---+----------+------+\n",
      "|   Name|age|Experience|Salary|\n",
      "+-------+---+----------+------+\n",
      "|   Karl| 31|        10| 30000|\n",
      "| Sussie| 30|         8| 25000|\n",
      "|  Sunny| 29|         4| 20000|\n",
      "|   Paul| 24|         3| 20000|\n",
      "|  Henry| 21|         1| 15000|\n",
      "|Shutter| 23|         2| 18000|\n",
      "|   null| 34|        10| 38000|\n",
      "+-------+---+----------+------+\n",
      "\n"
     ]
    }
   ],
   "source": [
    "# Threshold: Preserve if the row has 3 or more attributes with a NOT_NULL VALUE\n",
    "df_pyspark.na.drop(how=\"any\",thresh=3).show()"
   ]
  },
  {
   "cell_type": "code",
   "execution_count": 125,
   "id": "624c6b71-75a6-4428-bdbe-5f0cad7c755f",
   "metadata": {},
   "outputs": [
    {
     "name": "stdout",
     "output_type": "stream",
     "text": [
      "+-------+---+----------+------+\n",
      "|   Name|age|Experience|Salary|\n",
      "+-------+---+----------+------+\n",
      "|   Karl| 31|        10| 30000|\n",
      "| Sussie| 30|         8| 25000|\n",
      "|  Sunny| 29|         4| 20000|\n",
      "|   Paul| 24|         3| 20000|\n",
      "|  Henry| 21|         1| 15000|\n",
      "|Shutter| 23|         2| 18000|\n",
      "|   null| 34|        10| 38000|\n",
      "|   null| 36|      null|  null|\n",
      "+-------+---+----------+------+\n",
      "\n"
     ]
    }
   ],
   "source": [
    "# Apply only to the column age\n",
    "df_pyspark.na.drop(how=\"any\",subset=['Age']).show()"
   ]
  },
  {
   "cell_type": "code",
   "execution_count": 128,
   "id": "6953eeca-1ff1-48c8-be17-b056e0449047",
   "metadata": {},
   "outputs": [
    {
     "name": "stdout",
     "output_type": "stream",
     "text": [
      "+-------+---+----------+------+\n",
      "|   Name|age|Experience|Salary|\n",
      "+-------+---+----------+------+\n",
      "|   Karl| 31|        10| 30000|\n",
      "| Sussie| 30|         8| 25000|\n",
      "|  Sunny| 29|         4| 20000|\n",
      "|   Paul| 24|         3| 20000|\n",
      "|  Henry| 21|         1| 15000|\n",
      "|Shutter| 23|         2| 18000|\n",
      "|  Manny|  0|         0| 40000|\n",
      "|   null| 34|        10| 38000|\n",
      "|   null| 36|         0|  null|\n",
      "+-------+---+----------+------+\n",
      "\n"
     ]
    }
   ],
   "source": [
    "# Filling the Missing Value\n",
    "df_pyspark.na.fill(0,['Experience','age']).show()"
   ]
  },
  {
   "cell_type": "code",
   "execution_count": 130,
   "id": "fee8f313-aeac-45b8-b9f6-818ed4bc9715",
   "metadata": {},
   "outputs": [
    {
     "name": "stdout",
     "output_type": "stream",
     "text": [
      "+-------+----+----------+------+-----------+------------------+--------------+\n",
      "|   Name| age|Experience|Salary|age_imputed|Experience_imputed|Salary_imputed|\n",
      "+-------+----+----------+------+-----------+------------------+--------------+\n",
      "|   Karl|  31|        10| 30000|         31|                10|         30000|\n",
      "| Sussie|  30|         8| 25000|         30|                 8|         25000|\n",
      "|  Sunny|  29|         4| 20000|         29|                 4|         20000|\n",
      "|   Paul|  24|         3| 20000|         24|                 3|         20000|\n",
      "|  Henry|  21|         1| 15000|         21|                 1|         15000|\n",
      "|Shutter|  23|         2| 18000|         23|                 2|         18000|\n",
      "|  Manny|null|      null| 40000|         29|                 4|         40000|\n",
      "|   null|  34|        10| 38000|         34|                10|         38000|\n",
      "|   null|  36|      null|  null|         36|                 4|         20000|\n",
      "+-------+----+----------+------+-----------+------------------+--------------+\n",
      "\n"
     ]
    }
   ],
   "source": [
    "from pyspark.ml.feature import Imputer\n",
    "\n",
    "# Define imputer columns and output columns\n",
    "imputer = Imputer(\n",
    "    inputCols = ['age', 'Experience', 'Salary'], \n",
    "    outputCols = [\n",
    "        \"{}_imputed\".format(c) for c in ['age', 'Experience', 'Salary']\n",
    "    ]).setStrategy(\"median\")\n",
    "\n",
    "# Add imputation cols to df\n",
    "imputer.fit(df_pyspark).transform(df_pyspark).show()"
   ]
  },
  {
   "cell_type": "code",
   "execution_count": null,
   "id": "a9cbdb02-1134-4caa-9460-bf4516a6d0d9",
   "metadata": {},
   "outputs": [],
   "source": []
  },
  {
   "cell_type": "code",
   "execution_count": null,
   "id": "f4a78b21-d976-41f0-bf64-250f18bd8f2c",
   "metadata": {},
   "outputs": [],
   "source": []
  },
  {
   "cell_type": "code",
   "execution_count": null,
   "id": "b2fec53c-c133-4ccd-9197-2e202246cf5a",
   "metadata": {},
   "outputs": [],
   "source": []
  },
  {
   "cell_type": "code",
   "execution_count": null,
   "id": "2345c520-4afa-4fae-bc8d-c07166733259",
   "metadata": {},
   "outputs": [],
   "source": []
  },
  {
   "cell_type": "code",
   "execution_count": null,
   "id": "ba4a5a54-8d42-4ff3-acfc-8a2601264075",
   "metadata": {},
   "outputs": [],
   "source": []
  },
  {
   "cell_type": "code",
   "execution_count": null,
   "id": "f81eda05-6792-402d-9d5f-b2b883aa29c7",
   "metadata": {},
   "outputs": [],
   "source": []
  },
  {
   "cell_type": "code",
   "execution_count": null,
   "id": "4f71ecb7-9224-4cf9-9594-29fa04e68bcc",
   "metadata": {},
   "outputs": [],
   "source": []
  },
  {
   "cell_type": "code",
   "execution_count": null,
   "id": "0aac57dc-71a2-46a4-b861-a3bf40b164c0",
   "metadata": {},
   "outputs": [],
   "source": []
  },
  {
   "cell_type": "code",
   "execution_count": null,
   "id": "55cc25cc-5702-4b0b-af06-b0be3e93804e",
   "metadata": {},
   "outputs": [],
   "source": []
  },
  {
   "cell_type": "code",
   "execution_count": null,
   "id": "50e92f1a-37ed-4f04-9da2-664d04de13f5",
   "metadata": {},
   "outputs": [],
   "source": []
  },
  {
   "cell_type": "code",
   "execution_count": null,
   "id": "15ac880a-73fa-49eb-91a1-9d90a070f5e8",
   "metadata": {},
   "outputs": [],
   "source": []
  },
  {
   "cell_type": "code",
   "execution_count": null,
   "id": "6db1c935-e015-4e50-ba10-cd665f85037e",
   "metadata": {},
   "outputs": [],
   "source": []
  },
  {
   "cell_type": "code",
   "execution_count": null,
   "id": "69a4c5b3-ce6b-45b4-9e9f-d1c1312cd6a4",
   "metadata": {},
   "outputs": [],
   "source": []
  },
  {
   "cell_type": "code",
   "execution_count": null,
   "id": "4c8e64ed-8696-4eb3-913c-74f4d690214b",
   "metadata": {},
   "outputs": [],
   "source": []
  },
  {
   "cell_type": "code",
   "execution_count": null,
   "id": "9d623556-0207-4759-8d29-6791bef04eb8",
   "metadata": {},
   "outputs": [],
   "source": []
  },
  {
   "cell_type": "code",
   "execution_count": null,
   "id": "313c9a68-b844-4bfb-9bca-e588942d21b0",
   "metadata": {},
   "outputs": [],
   "source": []
  },
  {
   "cell_type": "code",
   "execution_count": null,
   "id": "0c31f9ec-f241-4046-8769-73d73d59cc36",
   "metadata": {},
   "outputs": [],
   "source": []
  },
  {
   "cell_type": "code",
   "execution_count": null,
   "id": "c6c8c329-8c03-4e9a-a649-138e2b5f5307",
   "metadata": {},
   "outputs": [],
   "source": []
  },
  {
   "cell_type": "code",
   "execution_count": null,
   "id": "18aeb708-9b1d-4c89-a263-0e843cad2007",
   "metadata": {},
   "outputs": [],
   "source": []
  },
  {
   "cell_type": "code",
   "execution_count": null,
   "id": "a3c25397-2692-4483-9daf-1b4b731383c7",
   "metadata": {},
   "outputs": [],
   "source": []
  },
  {
   "cell_type": "code",
   "execution_count": null,
   "id": "4f568dbb-342d-4e63-97cb-ca3c2fb0f058",
   "metadata": {},
   "outputs": [],
   "source": []
  },
  {
   "cell_type": "code",
   "execution_count": null,
   "id": "0787e4ab-22c2-4012-9bb7-96b110ff39ab",
   "metadata": {},
   "outputs": [],
   "source": []
  },
  {
   "cell_type": "code",
   "execution_count": null,
   "id": "40e702c9-bf38-4c45-933b-adb1109ddaf0",
   "metadata": {},
   "outputs": [],
   "source": []
  },
  {
   "cell_type": "code",
   "execution_count": null,
   "id": "ce139055-2e4c-43ee-8d6b-cbbec89100c9",
   "metadata": {},
   "outputs": [],
   "source": []
  },
  {
   "cell_type": "code",
   "execution_count": null,
   "id": "7bb5f183-4e6c-41f6-ac27-8fb902f8c0a0",
   "metadata": {},
   "outputs": [],
   "source": []
  },
  {
   "cell_type": "code",
   "execution_count": null,
   "id": "2df40a55-0f3f-4f20-9421-0d5faf6412a5",
   "metadata": {},
   "outputs": [],
   "source": []
  },
  {
   "cell_type": "code",
   "execution_count": null,
   "id": "06614d51-dfbc-4cc4-9c56-068b028fb204",
   "metadata": {},
   "outputs": [],
   "source": []
  },
  {
   "cell_type": "code",
   "execution_count": null,
   "id": "c7e0d2a1-ad56-45af-bf2c-81d95e5374a7",
   "metadata": {},
   "outputs": [],
   "source": []
  },
  {
   "cell_type": "code",
   "execution_count": null,
   "id": "c28d78cc-9d57-4a3a-b3d1-d48d291346cb",
   "metadata": {},
   "outputs": [],
   "source": []
  },
  {
   "cell_type": "code",
   "execution_count": null,
   "id": "e8adb49e-d427-4b2f-bb33-d34d0ea8b85e",
   "metadata": {},
   "outputs": [],
   "source": []
  },
  {
   "cell_type": "code",
   "execution_count": null,
   "id": "fdc34abd-a836-4e6f-823a-91a45006701c",
   "metadata": {},
   "outputs": [],
   "source": []
  },
  {
   "cell_type": "code",
   "execution_count": null,
   "id": "36943ae8-b7f4-483d-af76-eb435315ac6a",
   "metadata": {},
   "outputs": [],
   "source": []
  },
  {
   "cell_type": "code",
   "execution_count": null,
   "id": "189ba9f5-60cb-468a-96d5-242c44315a2d",
   "metadata": {},
   "outputs": [],
   "source": []
  },
  {
   "cell_type": "code",
   "execution_count": null,
   "id": "bdd238e1-8e5e-4a06-ac28-5e47a0144a54",
   "metadata": {},
   "outputs": [],
   "source": []
  },
  {
   "cell_type": "code",
   "execution_count": null,
   "id": "784cd8c9-024d-48df-a27d-5cd720b3cf68",
   "metadata": {},
   "outputs": [],
   "source": []
  },
  {
   "cell_type": "code",
   "execution_count": null,
   "id": "53ca95f0-365a-40fa-ab85-4f9b18167f35",
   "metadata": {},
   "outputs": [],
   "source": []
  },
  {
   "cell_type": "code",
   "execution_count": null,
   "id": "2897a26f-fe7a-4baf-a7af-1bbd6715cfe8",
   "metadata": {},
   "outputs": [],
   "source": []
  },
  {
   "cell_type": "code",
   "execution_count": null,
   "id": "687c2cb2-0c65-456c-bfd8-6254140b554b",
   "metadata": {},
   "outputs": [],
   "source": []
  },
  {
   "cell_type": "code",
   "execution_count": null,
   "id": "147a6937-9ec1-4a52-8698-13155b020f94",
   "metadata": {},
   "outputs": [],
   "source": []
  },
  {
   "cell_type": "code",
   "execution_count": null,
   "id": "4968b40f-40fb-4ae2-89e2-c264d7dc41b8",
   "metadata": {},
   "outputs": [],
   "source": []
  },
  {
   "cell_type": "code",
   "execution_count": null,
   "id": "fc7593df-0909-4dc2-830f-f10fbc7c4841",
   "metadata": {},
   "outputs": [],
   "source": []
  },
  {
   "cell_type": "code",
   "execution_count": null,
   "id": "63066ada-4315-4abe-a606-ceb924f03fea",
   "metadata": {},
   "outputs": [],
   "source": []
  },
  {
   "cell_type": "code",
   "execution_count": null,
   "id": "1b10c7a9-a719-4e05-9a70-53223a9d0ce5",
   "metadata": {},
   "outputs": [],
   "source": []
  },
  {
   "cell_type": "code",
   "execution_count": null,
   "id": "38f28443-d7aa-43d9-a800-4aae2a09148d",
   "metadata": {},
   "outputs": [],
   "source": []
  },
  {
   "cell_type": "code",
   "execution_count": null,
   "id": "774ed1b3-d841-4ae7-8320-5340603a9121",
   "metadata": {},
   "outputs": [],
   "source": []
  },
  {
   "cell_type": "code",
   "execution_count": null,
   "id": "98586336-4666-4967-94f0-40987ca2c91e",
   "metadata": {},
   "outputs": [],
   "source": []
  },
  {
   "cell_type": "code",
   "execution_count": null,
   "id": "31ea0304-72b1-4a93-a7e1-6925ed82e714",
   "metadata": {},
   "outputs": [],
   "source": []
  },
  {
   "cell_type": "code",
   "execution_count": null,
   "id": "eddaf460-baca-4c90-99c1-b22d6b1772a2",
   "metadata": {},
   "outputs": [],
   "source": []
  },
  {
   "cell_type": "code",
   "execution_count": null,
   "id": "22eb42e1-c2b2-4b61-882c-27403318d628",
   "metadata": {},
   "outputs": [],
   "source": []
  },
  {
   "cell_type": "code",
   "execution_count": null,
   "id": "86539654-9923-439f-ae8f-a42198d4e781",
   "metadata": {},
   "outputs": [],
   "source": []
  },
  {
   "cell_type": "code",
   "execution_count": null,
   "id": "9852d7b1-8f52-487d-bcea-a0b0046a479f",
   "metadata": {},
   "outputs": [],
   "source": []
  },
  {
   "cell_type": "code",
   "execution_count": null,
   "id": "e532fcbd-dba1-4c72-b293-250c14e6402e",
   "metadata": {},
   "outputs": [],
   "source": []
  },
  {
   "cell_type": "code",
   "execution_count": null,
   "id": "a9823363-3807-47b8-9fb6-97f03b01ea8d",
   "metadata": {},
   "outputs": [],
   "source": []
  },
  {
   "cell_type": "code",
   "execution_count": null,
   "id": "fed78665-b9d8-4e1b-86c0-79b0a47a8d67",
   "metadata": {},
   "outputs": [],
   "source": []
  },
  {
   "cell_type": "code",
   "execution_count": null,
   "id": "b2883f34-3154-4fdd-bade-c7f4ad31e12e",
   "metadata": {},
   "outputs": [],
   "source": []
  },
  {
   "cell_type": "code",
   "execution_count": null,
   "id": "fb81efa6-7e4d-4596-b324-b32ed6c0d0da",
   "metadata": {},
   "outputs": [],
   "source": []
  },
  {
   "cell_type": "code",
   "execution_count": null,
   "id": "07abb305-8b1b-42de-92f5-14eb46fb2b63",
   "metadata": {},
   "outputs": [],
   "source": []
  },
  {
   "cell_type": "code",
   "execution_count": null,
   "id": "4e632121-ff97-4368-8030-06debd5a421d",
   "metadata": {},
   "outputs": [],
   "source": []
  },
  {
   "cell_type": "code",
   "execution_count": null,
   "id": "185583f9-9967-49b5-b09e-fc38a6f3a7cd",
   "metadata": {},
   "outputs": [],
   "source": []
  },
  {
   "cell_type": "code",
   "execution_count": null,
   "id": "9eec3a6d-df27-44f9-9636-10bf5f01a1e7",
   "metadata": {},
   "outputs": [],
   "source": []
  },
  {
   "cell_type": "code",
   "execution_count": null,
   "id": "1ad983ae-6770-4834-8bd0-b42cc126266e",
   "metadata": {},
   "outputs": [],
   "source": []
  },
  {
   "cell_type": "code",
   "execution_count": null,
   "id": "cd64515b-0dda-4bd7-8ed7-e019eb42d14c",
   "metadata": {},
   "outputs": [],
   "source": []
  },
  {
   "cell_type": "code",
   "execution_count": null,
   "id": "115b1b22-0967-487c-bdf4-4777cb66d9f0",
   "metadata": {},
   "outputs": [],
   "source": []
  },
  {
   "cell_type": "code",
   "execution_count": null,
   "id": "96080d03-dce3-4086-a480-034e97e4d759",
   "metadata": {},
   "outputs": [],
   "source": []
  },
  {
   "cell_type": "code",
   "execution_count": null,
   "id": "436a581d-9916-40f2-ba98-d858f9195104",
   "metadata": {},
   "outputs": [],
   "source": []
  },
  {
   "cell_type": "code",
   "execution_count": null,
   "id": "0709de2e-9d0d-403e-ace5-d74ff23977e7",
   "metadata": {},
   "outputs": [],
   "source": []
  },
  {
   "cell_type": "code",
   "execution_count": null,
   "id": "8271203a-689f-4155-83c7-210af5e515dc",
   "metadata": {},
   "outputs": [],
   "source": []
  },
  {
   "cell_type": "code",
   "execution_count": null,
   "id": "716cef01-1b6a-4362-9168-d28c5555d0a4",
   "metadata": {},
   "outputs": [],
   "source": []
  },
  {
   "cell_type": "code",
   "execution_count": null,
   "id": "10089b53-502b-4c73-a18d-2c4041143f00",
   "metadata": {},
   "outputs": [],
   "source": []
  }
 ],
 "metadata": {
  "kernelspec": {
   "display_name": "Python 3 (ipykernel)",
   "language": "python",
   "name": "python3"
  },
  "language_info": {
   "codemirror_mode": {
    "name": "ipython",
    "version": 3
   },
   "file_extension": ".py",
   "mimetype": "text/x-python",
   "name": "python",
   "nbconvert_exporter": "python",
   "pygments_lexer": "ipython3",
   "version": "3.9.7"
  }
 },
 "nbformat": 4,
 "nbformat_minor": 5
}
