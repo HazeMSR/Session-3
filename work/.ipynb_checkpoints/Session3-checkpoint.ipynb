{
 "cells": [
  {
   "cell_type": "code",
   "execution_count": 1,
   "id": "bc2926c2-bfd3-4334-bafe-13abe5aea02a",
   "metadata": {},
   "outputs": [],
   "source": [
    "import pyspark"
   ]
  },
  {
   "cell_type": "code",
   "execution_count": 2,
   "id": "dc9f74d4-cda7-45c1-98a0-9ba37f364a9e",
   "metadata": {},
   "outputs": [],
   "source": [
    "from pyspark import SparkContext"
   ]
  },
  {
   "cell_type": "code",
   "execution_count": 3,
   "id": "e7cdb5c6-e13f-4500-a6b8-7bed3a4338dc",
   "metadata": {},
   "outputs": [],
   "source": [
    "sc = SparkContext()"
   ]
  },
  {
   "cell_type": "code",
   "execution_count": 4,
   "id": "64aae4ba-21ba-46b4-81cb-6575785b89db",
   "metadata": {},
   "outputs": [
    {
     "data": {
      "text/html": [
       "\n",
       "        <div>\n",
       "            <p><b>SparkContext</b></p>\n",
       "\n",
       "            <p><a href=\"http://748f5bb9a19f:4040\">Spark UI</a></p>\n",
       "\n",
       "            <dl>\n",
       "              <dt>Version</dt>\n",
       "                <dd><code>v3.2.1</code></dd>\n",
       "              <dt>Master</dt>\n",
       "                <dd><code>local[*]</code></dd>\n",
       "              <dt>AppName</dt>\n",
       "                <dd><code>pyspark-shell</code></dd>\n",
       "            </dl>\n",
       "        </div>\n",
       "        "
      ],
      "text/plain": [
       "<SparkContext master=local[*] appName=pyspark-shell>"
      ]
     },
     "execution_count": 4,
     "metadata": {},
     "output_type": "execute_result"
    }
   ],
   "source": [
    "sc"
   ]
  },
  {
   "cell_type": "code",
   "execution_count": 5,
   "id": "35ce3811-1198-4197-9103-a05b319e9e9f",
   "metadata": {},
   "outputs": [],
   "source": [
    "# Resilient Distributed Dataset. \n",
    "nums = sc.parallelize([1,2,3,4])"
   ]
  },
  {
   "cell_type": "code",
   "execution_count": 7,
   "id": "6d3d451a-3c64-478e-80f1-0aaa7adfd2f7",
   "metadata": {},
   "outputs": [
    {
     "data": {
      "text/plain": [
       "[1, 2]"
      ]
     },
     "execution_count": 7,
     "metadata": {},
     "output_type": "execute_result"
    }
   ],
   "source": [
    "nums.take(2)"
   ]
  },
  {
   "cell_type": "code",
   "execution_count": 15,
   "id": "aae51fd3-2ca8-416f-ac1e-bf48a01bde9a",
   "metadata": {},
   "outputs": [],
   "source": [
    "# Applying some transformation with a lambda function to our set\n",
    "squared = nums.map(lambda x: x*x).collect()"
   ]
  },
  {
   "cell_type": "code",
   "execution_count": 16,
   "id": "d220fbf3-48bf-40c9-8fb7-4e02469da564",
   "metadata": {},
   "outputs": [
    {
     "data": {
      "text/plain": [
       "[1, 4, 9, 16]"
      ]
     },
     "execution_count": 16,
     "metadata": {},
     "output_type": "execute_result"
    }
   ],
   "source": [
    "squared"
   ]
  },
  {
   "cell_type": "code",
   "execution_count": 25,
   "id": "aba53415-aa34-4a92-869a-4546330005b4",
   "metadata": {},
   "outputs": [],
   "source": [
    "# Using SQLContext\n",
    "from pyspark.sql import SQLContext\n",
    "from pyspark.sql import Row\n",
    "sqlContext = SQLContext(sc)"
   ]
  },
  {
   "cell_type": "code",
   "execution_count": 18,
   "id": "76d76e8d-8c3d-497f-b609-835d8fa47b3d",
   "metadata": {},
   "outputs": [],
   "source": [
    "# But SQLContext it's already deprecated use SparkSession instead\n",
    "from pyspark.sql import SparkSession\n",
    "\n",
    "spark = SparkSession.builder.appName('Session3').getOrCreate()"
   ]
  },
  {
   "cell_type": "code",
   "execution_count": 20,
   "id": "9894c86f-d3a8-4aa5-a44c-0b2d9b1af1fd",
   "metadata": {},
   "outputs": [
    {
     "data": {
      "text/html": [
       "\n",
       "            <div>\n",
       "                <p><b>SparkSession - in-memory</b></p>\n",
       "                \n",
       "        <div>\n",
       "            <p><b>SparkContext</b></p>\n",
       "\n",
       "            <p><a href=\"http://748f5bb9a19f:4040\">Spark UI</a></p>\n",
       "\n",
       "            <dl>\n",
       "              <dt>Version</dt>\n",
       "                <dd><code>v3.2.1</code></dd>\n",
       "              <dt>Master</dt>\n",
       "                <dd><code>local[*]</code></dd>\n",
       "              <dt>AppName</dt>\n",
       "                <dd><code>pyspark-shell</code></dd>\n",
       "            </dl>\n",
       "        </div>\n",
       "        \n",
       "            </div>\n",
       "        "
      ],
      "text/plain": [
       "<pyspark.sql.session.SparkSession at 0x7fb956f7ea30>"
      ]
     },
     "execution_count": 20,
     "metadata": {},
     "output_type": "execute_result"
    }
   ],
   "source": [
    "spark"
   ]
  },
  {
   "cell_type": "code",
   "execution_count": 21,
   "id": "ba1b4416-aaff-437e-b4a7-954dd12738c0",
   "metadata": {},
   "outputs": [],
   "source": [
    "list_p = [('John',19),('Smith',29),('Adam',35),('Henry',50)]"
   ]
  },
  {
   "cell_type": "code",
   "execution_count": 28,
   "id": "c1356b52-6b17-4f14-9c6b-9de5467bbb35",
   "metadata": {},
   "outputs": [],
   "source": [
    "# Make a parallel RDD\n",
    "rdd = sc.parallelize(list_p)"
   ]
  },
  {
   "cell_type": "code",
   "execution_count": 29,
   "id": "d55c70e4-5f2a-44d4-a3f2-d3f0be688c27",
   "metadata": {},
   "outputs": [
    {
     "data": {
      "text/plain": [
       "ParallelCollectionRDD[11] at readRDDFromFile at PythonRDD.scala:274"
      ]
     },
     "execution_count": 29,
     "metadata": {},
     "output_type": "execute_result"
    }
   ],
   "source": [
    "rdd"
   ]
  },
  {
   "cell_type": "code",
   "execution_count": 26,
   "id": "b0ca6fcf-6569-4393-841a-83b0299fa322",
   "metadata": {},
   "outputs": [],
   "source": [
    "# Convert the RDD to tuples\n",
    "ppl = rdd.map(lambda x: Row(name=x[0], age=int(x[1])))"
   ]
  },
  {
   "cell_type": "code",
   "execution_count": 27,
   "id": "f65c66eb-6165-4bb6-b1f0-72be87141f8e",
   "metadata": {},
   "outputs": [
    {
     "data": {
      "text/plain": [
       "PythonRDD[10] at RDD at PythonRDD.scala:53"
      ]
     },
     "execution_count": 27,
     "metadata": {},
     "output_type": "execute_result"
    }
   ],
   "source": [
    "ppl"
   ]
  },
  {
   "cell_type": "code",
   "execution_count": 30,
   "id": "536059ef-e016-40fd-b52a-75ab9976cab7",
   "metadata": {},
   "outputs": [],
   "source": [
    "df_ppl = spark.createDataFrame(ppl)"
   ]
  },
  {
   "cell_type": "code",
   "execution_count": 31,
   "id": "381ef76f-c380-4bba-a9ee-11885c6d6e15",
   "metadata": {},
   "outputs": [
    {
     "data": {
      "text/plain": [
       "DataFrame[name: string, age: bigint]"
      ]
     },
     "execution_count": 31,
     "metadata": {},
     "output_type": "execute_result"
    }
   ],
   "source": [
    "df_ppl"
   ]
  },
  {
   "cell_type": "code",
   "execution_count": 32,
   "id": "83f3bb16-4c6e-48c4-8744-c54d0e809011",
   "metadata": {},
   "outputs": [
    {
     "name": "stdout",
     "output_type": "stream",
     "text": [
      "root\n",
      " |-- name: string (nullable = true)\n",
      " |-- age: long (nullable = true)\n",
      "\n"
     ]
    }
   ],
   "source": [
    "df_ppl.printSchema()"
   ]
  },
  {
   "cell_type": "code",
   "execution_count": 44,
   "id": "e53cc9ac-7d8e-4f7f-b224-80302fb35df4",
   "metadata": {},
   "outputs": [],
   "source": [
    "file = \"work/adult_data.csv\"\n",
    "from pyspark import SparkFiles\n",
    "#sc.addFile(file)\n",
    "\n",
    "# Add a file to be downloaded with this Spark job on every node\n",
    "spark.sparkContext.addFile(file)"
   ]
  },
  {
   "cell_type": "code",
   "execution_count": 46,
   "id": "84ba3249-2f9b-42b0-a92b-41a084c8ec64",
   "metadata": {},
   "outputs": [],
   "source": [
    "# sqlContext.read.csv\n",
    "\n",
    "# Load your file to your sql context inside spark session\n",
    "df = spark.read.csv(SparkFiles.get(\"adult_data.csv\"), header=True, inferSchema= True)"
   ]
  },
  {
   "cell_type": "code",
   "execution_count": null,
   "id": "f55d0ac7-c5d7-4d7c-88e0-2281b96a9a09",
   "metadata": {},
   "outputs": [],
   "source": []
  },
  {
   "cell_type": "code",
   "execution_count": null,
   "id": "a9823363-3807-47b8-9fb6-97f03b01ea8d",
   "metadata": {},
   "outputs": [],
   "source": []
  },
  {
   "cell_type": "code",
   "execution_count": null,
   "id": "fed78665-b9d8-4e1b-86c0-79b0a47a8d67",
   "metadata": {},
   "outputs": [],
   "source": []
  },
  {
   "cell_type": "code",
   "execution_count": null,
   "id": "b2883f34-3154-4fdd-bade-c7f4ad31e12e",
   "metadata": {},
   "outputs": [],
   "source": []
  },
  {
   "cell_type": "code",
   "execution_count": null,
   "id": "fb81efa6-7e4d-4596-b324-b32ed6c0d0da",
   "metadata": {},
   "outputs": [],
   "source": []
  },
  {
   "cell_type": "code",
   "execution_count": null,
   "id": "07abb305-8b1b-42de-92f5-14eb46fb2b63",
   "metadata": {},
   "outputs": [],
   "source": []
  },
  {
   "cell_type": "code",
   "execution_count": null,
   "id": "4e632121-ff97-4368-8030-06debd5a421d",
   "metadata": {},
   "outputs": [],
   "source": []
  },
  {
   "cell_type": "code",
   "execution_count": null,
   "id": "185583f9-9967-49b5-b09e-fc38a6f3a7cd",
   "metadata": {},
   "outputs": [],
   "source": []
  },
  {
   "cell_type": "code",
   "execution_count": null,
   "id": "9eec3a6d-df27-44f9-9636-10bf5f01a1e7",
   "metadata": {},
   "outputs": [],
   "source": []
  },
  {
   "cell_type": "code",
   "execution_count": null,
   "id": "1ad983ae-6770-4834-8bd0-b42cc126266e",
   "metadata": {},
   "outputs": [],
   "source": []
  },
  {
   "cell_type": "code",
   "execution_count": null,
   "id": "cd64515b-0dda-4bd7-8ed7-e019eb42d14c",
   "metadata": {},
   "outputs": [],
   "source": []
  },
  {
   "cell_type": "code",
   "execution_count": null,
   "id": "115b1b22-0967-487c-bdf4-4777cb66d9f0",
   "metadata": {},
   "outputs": [],
   "source": []
  },
  {
   "cell_type": "code",
   "execution_count": null,
   "id": "96080d03-dce3-4086-a480-034e97e4d759",
   "metadata": {},
   "outputs": [],
   "source": []
  },
  {
   "cell_type": "code",
   "execution_count": null,
   "id": "436a581d-9916-40f2-ba98-d858f9195104",
   "metadata": {},
   "outputs": [],
   "source": []
  },
  {
   "cell_type": "code",
   "execution_count": null,
   "id": "0709de2e-9d0d-403e-ace5-d74ff23977e7",
   "metadata": {},
   "outputs": [],
   "source": []
  },
  {
   "cell_type": "code",
   "execution_count": null,
   "id": "8271203a-689f-4155-83c7-210af5e515dc",
   "metadata": {},
   "outputs": [],
   "source": []
  },
  {
   "cell_type": "code",
   "execution_count": null,
   "id": "716cef01-1b6a-4362-9168-d28c5555d0a4",
   "metadata": {},
   "outputs": [],
   "source": []
  },
  {
   "cell_type": "code",
   "execution_count": null,
   "id": "10089b53-502b-4c73-a18d-2c4041143f00",
   "metadata": {},
   "outputs": [],
   "source": []
  }
 ],
 "metadata": {
  "kernelspec": {
   "display_name": "Python 3 (ipykernel)",
   "language": "python",
   "name": "python3"
  },
  "language_info": {
   "codemirror_mode": {
    "name": "ipython",
    "version": 3
   },
   "file_extension": ".py",
   "mimetype": "text/x-python",
   "name": "python",
   "nbconvert_exporter": "python",
   "pygments_lexer": "ipython3",
   "version": "3.9.7"
  }
 },
 "nbformat": 4,
 "nbformat_minor": 5
}
